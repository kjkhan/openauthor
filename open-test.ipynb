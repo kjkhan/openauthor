{
 "cells": [
  {
   "cell_type": "code",
   "execution_count": 262,
   "metadata": {},
   "outputs": [
    {
     "name": "stdout",
     "output_type": "stream",
     "text": [
      "The autoreload extension is already loaded. To reload it, use:\n",
      "  %reload_ext autoreload\n"
     ]
    }
   ],
   "source": [
    "%load_ext autoreload\n",
    "%autoreload 2\n",
    "import origin\n",
    "# mongod --config /usr/local/etc/mongod.conf"
   ]
  },
  {
   "cell_type": "code",
   "execution_count": 291,
   "metadata": {},
   "outputs": [],
   "source": [
    "compare = origin.Database().delete(1)"
   ]
  },
  {
   "cell_type": "code",
   "execution_count": 287,
   "metadata": {},
   "outputs": [],
   "source": [
    "import os\n",
    "path = 'data/C50/C50train/'\n",
    "author = \"ToddNissen\"\n",
    "data = []\n",
    "\n",
    "texts = os.listdir(path + author + '/')\n",
    "for text in texts:\n",
    "    f=open(path + author + '/' + text, 'r')\n",
    "    data.append([author, f.read()])\n",
    "    f.close()"
   ]
  },
  {
   "cell_type": "code",
   "execution_count": null,
   "metadata": {},
   "outputs": [
    {
     "name": "stdout",
     "output_type": "stream",
     "text": [
      "Started interface\n",
      "New author; no old hashes available\n",
      "Score: -1\n",
      "<origin.Hash object at 0x1a8c879780> 0.01670991436036257\n",
      "Score: 0.01670991436036257\n",
      "<origin.Hash object at 0x1a91070dd8> 0.39249385586205243\n",
      "<origin.Hash object at 0x1a90714a58> 0.11357396972849029\n",
      "Score: 0.2530339127952714\n",
      "<origin.Hash object at 0x1a8582ac18> 0.21962454962784375\n",
      "<origin.Hash object at 0x1a8582ab70> 0.02889097406123234\n",
      "<origin.Hash object at 0x1a912d7f60> 0.05080497030127981\n",
      "Score: 0.0997734979967853\n",
      "<origin.Hash object at 0x1a6d2d2358> 0.7874656789280189\n",
      "<origin.Hash object at 0x1a8692c978> 0.05520985694558764\n",
      "<origin.Hash object at 0x1a8ad26c88> 0.38648433191840864\n",
      "<origin.Hash object at 0x1a95081a20> 0.1844823760804827\n",
      "Score: 0.3534105609681245\n",
      "<origin.Hash object at 0x1aa267dc50> 0.06035715282368541\n",
      "<origin.Hash object at 0x1a999d2748> 0.1807677670828856\n",
      "<origin.Hash object at 0x1a8ad26c88> 0.6811603268170442\n",
      "<origin.Hash object at 0x1aa279c5c0> 0.13199133011994965\n",
      "<origin.Hash object at 0x1aa2770ac8> 0.06432606855538105\n",
      "Score: 0.22372052907978918\n",
      "<origin.Hash object at 0x1a8bb60cf8> 0.15148158658264183\n",
      "<origin.Hash object at 0x1a6d2f4470> 0.044682772376188104\n",
      "<origin.Hash object at 0x1a9532fe10> 0.10518027649978876\n",
      "<origin.Hash object at 0x1a9532fb00> 0.040913650270257534\n",
      "<origin.Hash object at 0x1aa6f649e8> 0.07970588118866377\n",
      "<origin.Hash object at 0x1aa6f649b0> 0.08803970616891209\n",
      "Score: 0.08500064551440867\n",
      "<origin.Hash object at 0x1aa6c6bb00> 0.045867684601404904\n",
      "<origin.Hash object at 0x1a8e9b5cc0> 0.7775776923052895\n",
      "<origin.Hash object at 0x1aab137e48> 0.22172816361156292\n",
      "<origin.Hash object at 0x1aa6aa2e10> 0.030777497697004507\n",
      "<origin.Hash object at 0x1aab4f4f60> 0.09235876620347368\n",
      "<origin.Hash object at 0x1aab4f4f28> 0.23553053525982093\n",
      "<origin.Hash object at 0x1aab4f4f98> 0.04323636562001472\n",
      "Score: 0.20672524361408162\n",
      "<origin.Hash object at 0x1a96fe6cf8> 0.18180155186475505\n",
      "<origin.Hash object at 0x1aae466f98> 0.05926261400968989\n",
      "<origin.Hash object at 0x1aab1635c0> 0.5566861720991604\n",
      "<origin.Hash object at 0x1aab163048> 0.20618121721930632\n",
      "<origin.Hash object at 0x1aae5abbe0> 0.0976318913835708\n",
      "<origin.Hash object at 0x1aae5abba8> 0.5701922270680555\n",
      "<origin.Hash object at 0x1aae5abc18> 0.2002156394487906\n",
      "<origin.Hash object at 0x1aae5abc50> 0.09070555158742367\n",
      "Score: 0.24533460808509405\n",
      "<origin.Hash object at 0x1a564c6cc0> 0.7036344085353959\n",
      "<origin.Hash object at 0x1ab43dcd68> 0.04525129111408792\n",
      "<origin.Hash object at 0x1a9b8deeb8> 0.45747807188143896\n",
      "<origin.Hash object at 0x1a9b8de358> 0.31157953552541096\n",
      "<origin.Hash object at 0x1ab44fc828> 0.5172259134479482\n",
      "<origin.Hash object at 0x1ab44fc908> 0.34615756952108523\n",
      "<origin.Hash object at 0x1ab44fc518> 0.23945654669311212\n",
      "<origin.Hash object at 0x1ab44fc780> 0.094062947069474\n",
      "<origin.Hash object at 0x1ab44fcd68> 0.33279978711817415\n",
      "Score: 0.33862734121179194\n",
      "<origin.Hash object at 0x1aab163048> 0.6110627202534307\n",
      "<origin.Hash object at 0x1aab1635c0> 0.013642118142021094\n",
      "<origin.Hash object at 0x1a5b7966d8> 0.28556355944365686\n",
      "<origin.Hash object at 0x1ab43dcb38> 0.14467171541295504\n",
      "<origin.Hash object at 0x1ab8ac7390> 0.8110203894212238\n",
      "<origin.Hash object at 0x1ab8ac7358> 0.052981159591301466\n",
      "<origin.Hash object at 0x1ab8ac73c8> 0.058372422828071244\n",
      "<origin.Hash object at 0x1ab8ac7400> 0.04394573325420221\n",
      "<origin.Hash object at 0x1ab8ac7438> 0.08739064965442288\n",
      "<origin.Hash object at 0x1ab8ac7470> 0.39588145948386366\n",
      "Score: 0.25045319274851485\n"
     ]
    }
   ],
   "source": [
    "inter = origin.Interface()\n",
    "for d in data:\n",
    "    inter.score(1, d)"
   ]
  },
  {
   "cell_type": "code",
   "execution_count": null,
   "metadata": {},
   "outputs": [],
   "source": []
  },
  {
   "cell_type": "code",
   "execution_count": null,
   "metadata": {},
   "outputs": [],
   "source": []
  }
 ],
 "metadata": {
  "kernelspec": {
   "display_name": "Python 3",
   "language": "python",
   "name": "python3"
  },
  "language_info": {
   "codemirror_mode": {
    "name": "ipython",
    "version": 3
   },
   "file_extension": ".py",
   "mimetype": "text/x-python",
   "name": "python",
   "nbconvert_exporter": "python",
   "pygments_lexer": "ipython3",
   "version": "3.6.5"
  }
 },
 "nbformat": 4,
 "nbformat_minor": 2
}
