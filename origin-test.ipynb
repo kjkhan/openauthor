{
 "cells": [
  {
   "cell_type": "markdown",
   "metadata": {},
   "source": [
    "# Notebook to Test External Tool\n",
    "The following code is used to test the External Tool \"Origin\" (formally called Thor).  Origin consists of four classes:\n",
    "* Hash:  contains the hash member and functions to create and view the hash\n",
    "* Originality: takes in unprocessed text and returns a Hash containing neural and statistics dictionaries\n",
    "* Database:  opens, finds, and stores Hashes in the database\n",
    "* Comparison:  takes in a Hash and compare's it against Hashes in the database for the same student id"
   ]
  },
  {
   "cell_type": "code",
   "execution_count": 9,
   "metadata": {},
   "outputs": [
    {
     "name": "stdout",
     "output_type": "stream",
     "text": [
      "The autoreload extension is already loaded. To reload it, use:\n",
      "  %reload_ext autoreload\n"
     ]
    }
   ],
   "source": [
    "%load_ext autoreload\n",
    "%autoreload 2\n",
    "\n",
    "import origin\n",
    "import os\n",
    "import warnings\n",
    "\n",
    "warnings.filterwarnings('ignore')"
   ]
  },
  {
   "cell_type": "markdown",
   "metadata": {},
   "source": [
    "## Load dataset into dictionary\n",
    "Here are the authors excluded from the network's training/validation sets."
   ]
  },
  {
   "cell_type": "code",
   "execution_count": 23,
   "metadata": {},
   "outputs": [],
   "source": [
    "new_authors = [\n",
    "    'EdnaFernandes',\n",
    "    'FumikoFujisaki',\n",
    "    'JanLopatka',\n",
    "    'KevinDrawbaugh',\n",
    "    'MureDickie',\n",
    "    'PierreTran',\n",
    "    'SamuelPerry',\n",
    "    'SarahDavison',\n",
    "    'SimonCowell',\n",
    "    'ToddNissen'\n",
    "]"
   ]
  },
  {
   "cell_type": "code",
   "execution_count": 24,
   "metadata": {},
   "outputs": [],
   "source": [
    "DATASET_PATH = 'data/C50/C50all/'\n",
    "\n",
    "corpus = {}\n",
    "\n",
    "for author in new_authors:\n",
    "    texts = os.listdir(DATASET_PATH + author + '/')\n",
    "    corpus[author] = []\n",
    "    \n",
    "    for text in texts:\n",
    "        with open(DATASET_PATH + author + '/' + text, 'r') as f:\n",
    "            corpus[author].append(f.read())"
   ]
  },
  {
   "cell_type": "code",
   "execution_count": 28,
   "metadata": {},
   "outputs": [
    {
     "name": "stdout",
     "output_type": "stream",
     "text": [
      "Here's the unprocessed, first text for author ToddNissen:\n"
     ]
    },
    {
     "data": {
      "text/plain": [
       "'Workers striking two Johnson Control Inc. seat assembly plants Tuesday scored a major victory when Ford Motor Co. said it would refuse to accept non-union made seats until the dispute is resolved.\\n\"We had a huge, huge victory here today,\" Bob King, director of United Auto Worker Region 1A, told a boisterous crowd of strikers and supporters outside of the plant in Plymouth, Mich., a suburb west of Detroit.\\nMore than 300 workers at the plant walked off the job at 6 a.m. Tuesday after talks on a new contract broke down late Monday. The strike drew hundreds of other chanting supporters.\\nAbout 200 employees of a Johnson Controls seat plant in Oberlin, Ohio, also struck the company when their talks collapsed. Workers at both plants agreed last fall to be represented by the UAW in a new labour contract.\\nThe Plymouth plant provides final assembly for seats that go into Ford\\'s hot-selling Expedition full-size sport utility vehicle, which is made at the nearby Michigan Truck plant in Wayne, Mich. The Ohio plant makes seats for Ford\\'s Econoline full-size vans.\\nJohnson Controls officials did not return telephone calls. In a statement, the company said it will make \"every effort\" to continue seat production at both plants, including hiring temporary and permanent replacement workers, if necessary.\\nRepresentatives from Ford said they had to consider their own union workforces when they were affected by supplier disputes. Ford is generally regarded as having the best labour relations of Detroit\\'s Big Three.\\n\"We\\'re not accepting seats made by the non-union employees of Johnson Controls,\" said Ford spokesman Bill Carroll.\\nAs of midday Tuesday, no new talks were scheduled.\\nUAW spokesman Karl Mantyla said the union was seeking wage parity with other seat suppliers, such as Lear Corp. which pays hourly wages of $14 to $16. Mantyla would not say what Johnson offered, but said the company \"did not get close to that.\"\\nThe UAW is also pressing for resolution of unfair labour practice claims. After workers agreed to be represented by the UAW, Mantyla said Johnson dropped its entry pay rate to $9 an hour from $9.50, cut out a 401(k) retirement plan, and barred union supporters from displaying UAW buttons at company meetings.\\nIn its statement, the company said the UAW rejected what Johnson termed a reasonable and fair offer.\\n'"
      ]
     },
     "execution_count": 28,
     "metadata": {},
     "output_type": "execute_result"
    }
   ],
   "source": [
    "print(\"Here's the unprocessed, first text for author ToddNissen:\")\n",
    "corpus[\"ToddNissen\"][0]"
   ]
  },
  {
   "cell_type": "markdown",
   "metadata": {},
   "source": [
    "## Clean database"
   ]
  },
  {
   "cell_type": "code",
   "execution_count": 48,
   "metadata": {},
   "outputs": [
    {
     "name": "stdout",
     "output_type": "stream",
     "text": [
      "Connecting to database\n",
      "...deleted EdnaFernandes\n",
      "...deleted FumikoFujisaki\n",
      "...deleted JanLopatka\n",
      "...deleted KevinDrawbaugh\n",
      "...deleted MureDickie\n",
      "...deleted PierreTran\n",
      "...deleted SamuelPerry\n",
      "...deleted SarahDavison\n",
      "...deleted SimonCowell\n",
      "...deleted ToddNissen\n"
     ]
    }
   ],
   "source": [
    "db = origin.Database()\n",
    "for author in corpus:\n",
    "    print(\"...deleted\", author)\n",
    "    db.delete(author)"
   ]
  },
  {
   "cell_type": "markdown",
   "metadata": {},
   "source": [
    "## Entering first submission"
   ]
  },
  {
   "cell_type": "code",
   "execution_count": 49,
   "metadata": {},
   "outputs": [
    {
     "name": "stdout",
     "output_type": "stream",
     "text": [
      "Started interface\n",
      "Executing originality algorithm\n",
      "Creating hash\n",
      "Started comparison\n",
      "Connecting to database\n",
      "\n",
      "Author ID: ToddNissen\n",
      "Submitted text: 'Workers striking two Johnson Control Inc. seat asse...'\n",
      "Score:  -1 (new author; nothing to compare)\n"
     ]
    },
    {
     "data": {
      "text/plain": [
       "-1"
      ]
     },
     "execution_count": 49,
     "metadata": {},
     "output_type": "execute_result"
    }
   ],
   "source": [
    "interface = origin.Interface()\n",
    "\n",
    "author = \"ToddNissen\"\n",
    "article_num = 0\n",
    "\n",
    "interface.score(author, corpus[author][article_num])"
   ]
  },
  {
   "cell_type": "markdown",
   "metadata": {},
   "source": [
    "## Entering second submission"
   ]
  },
  {
   "cell_type": "code",
   "execution_count": 52,
   "metadata": {},
   "outputs": [
    {
     "name": "stdout",
     "output_type": "stream",
     "text": [
      "Executing originality algorithm\n",
      "Creating hash\n",
      "Started comparison\n",
      "Connecting to database\n",
      "Creating hash\n",
      "\n",
      "Author ID: ToddNissen\n",
      "Submitted text: 'Calling it a crucial change for how it develops new...'\n",
      "Average score: 0.99977\n",
      "\n",
      "Here's a comparision against prior submissions:\n",
      "1 (Mon 30 Jul 2018 05:16:53): Workers striking two Johnson Control Inc. seat asse: 0.99977\n"
     ]
    },
    {
     "data": {
      "text/plain": [
       "0.9997734213559645"
      ]
     },
     "execution_count": 52,
     "metadata": {},
     "output_type": "execute_result"
    }
   ],
   "source": [
    "author = \"ToddNissen\"\n",
    "article_num = 37\n",
    "\n",
    "interface.score(author, corpus[author][article_num])"
   ]
  },
  {
   "cell_type": "markdown",
   "metadata": {},
   "source": [
    "## Entering new author"
   ]
  },
  {
   "cell_type": "code",
   "execution_count": 53,
   "metadata": {},
   "outputs": [
    {
     "name": "stdout",
     "output_type": "stream",
     "text": [
      "Executing originality algorithm\n",
      "Creating hash\n",
      "Started comparison\n",
      "Connecting to database\n",
      "\n",
      "Author ID: KevinDrawbaugh\n",
      "Submitted text: 'The Food and Drug Administration is approving new d...'\n",
      "Score:  -1 (new author; nothing to compare)\n"
     ]
    },
    {
     "data": {
      "text/plain": [
       "-1"
      ]
     },
     "execution_count": 53,
     "metadata": {},
     "output_type": "execute_result"
    }
   ],
   "source": [
    "author = \"KevinDrawbaugh\"\n",
    "article_num = 22\n",
    "\n",
    "interface.score(author, corpus[author][article_num])"
   ]
  },
  {
   "cell_type": "code",
   "execution_count": 55,
   "metadata": {},
   "outputs": [
    {
     "name": "stdout",
     "output_type": "stream",
     "text": [
      "Executing originality algorithm\n",
      "Creating hash\n",
      "Started comparison\n",
      "Connecting to database\n",
      "Creating hash\n",
      "\n",
      "Author ID: KevinDrawbaugh\n",
      "Submitted text: 'Amoco Corp is basing its 1997 business plans on ass...'\n",
      "Average score: 0.19042\n",
      "Submission likely from different author\n",
      "\n",
      "Here's a comparision against prior submissions:\n",
      "1 (Mon 30 Jul 2018 05:21:37): The Food and Drug Administration is approving new d: 0.19042\n"
     ]
    },
    {
     "data": {
      "text/plain": [
       "0.19042466174058711"
      ]
     },
     "execution_count": 55,
     "metadata": {},
     "output_type": "execute_result"
    }
   ],
   "source": [
    "author = \"KevinDrawbaugh\"\n",
    "article_num = 33\n",
    "\n",
    "interface.score(author, corpus[author][article_num])"
   ]
  },
  {
   "cell_type": "markdown",
   "metadata": {},
   "source": [
    "## Entering in text from wrong author"
   ]
  },
  {
   "cell_type": "code",
   "execution_count": 54,
   "metadata": {},
   "outputs": [
    {
     "name": "stdout",
     "output_type": "stream",
     "text": [
      "Executing originality algorithm\n",
      "Creating hash\n",
      "Started comparison\n",
      "Connecting to database\n",
      "Creating hash\n",
      "Creating hash\n",
      "\n",
      "Author ID: ToddNissen\n",
      "Submitted text: 'Hong Kong's Financial Secretary Donald Tsang issued...'\n",
      "Average score: 0.00231\n",
      "\n",
      "Here's a comparision against prior submissions:\n",
      "1 (Mon 30 Jul 2018 05:16:53): Workers striking two Johnson Control Inc. seat asse: 0.00209\n",
      "2 (Mon 30 Jul 2018 05:20:09): Calling it a crucial change for how it develops new: 0.00253\n"
     ]
    },
    {
     "data": {
      "text/plain": [
       "0.0023127032563767616"
      ]
     },
     "execution_count": 54,
     "metadata": {},
     "output_type": "execute_result"
    }
   ],
   "source": [
    "author = \"ToddNissen\"\n",
    "article_num = 39\n",
    "\n",
    "interface.score(author, corpus[\"SarahDavison\"][article_num])"
   ]
  },
  {
   "cell_type": "code",
   "execution_count": null,
   "metadata": {},
   "outputs": [],
   "source": []
  }
 ],
 "metadata": {
  "kernelspec": {
   "display_name": "Python [conda env:tensorflow_p36]",
   "language": "python",
   "name": "conda-env-tensorflow_p36-py"
  },
  "language_info": {
   "codemirror_mode": {
    "name": "ipython",
    "version": 3
   },
   "file_extension": ".py",
   "mimetype": "text/x-python",
   "name": "python",
   "nbconvert_exporter": "python",
   "pygments_lexer": "ipython3",
   "version": "3.6.6"
  }
 },
 "nbformat": 4,
 "nbformat_minor": 2
}
