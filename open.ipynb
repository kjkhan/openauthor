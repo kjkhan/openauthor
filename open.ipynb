{
 "cells": [
  {
   "cell_type": "code",
   "execution_count": 1,
   "metadata": {},
   "outputs": [
    {
     "name": "stdout",
     "output_type": "stream",
     "text": [
      "Found GPU at: /device:GPU:0\n"
     ]
    }
   ],
   "source": [
    "import tensorflow as tf\n",
    "device_name = tf.test.gpu_device_name()\n",
    "print('Found GPU at: {}'.format(device_name))"
   ]
  },
  {
   "cell_type": "markdown",
   "metadata": {},
   "source": [
    "# Creating an Author Idenfication Model\n",
    "A second-generation model of the main \"originality score\" algorithm: preprocessing a sample paper, performing analytics, saving the document's hash, and returning a score.  Uses embedding to improve understanding."
   ]
  },
  {
   "cell_type": "code",
   "execution_count": 2,
   "metadata": {},
   "outputs": [],
   "source": [
    "import warnings\n",
    "warnings.filterwarnings('ignore')\n",
    "\n",
    "import os\n",
    "import numpy as np"
   ]
  },
  {
   "cell_type": "markdown",
   "metadata": {},
   "source": [
    "## Read in dataset\n",
    "Load the [Reuter 50_50 training dataset](https://archive.ics.uci.edu/ml/datasets/Reuter_50_50)."
   ]
  },
  {
   "cell_type": "code",
   "execution_count": 3,
   "metadata": {},
   "outputs": [],
   "source": [
    "DATASET_PATH = 'data/C50/C50all/'"
   ]
  },
  {
   "cell_type": "code",
   "execution_count": 4,
   "metadata": {},
   "outputs": [
    {
     "name": "stdout",
     "output_type": "stream",
     "text": [
      "# of text: 5018\n",
      "# of authors: 50\n"
     ]
    }
   ],
   "source": [
    "# load text\n",
    "authors = os.listdir(DATASET_PATH)\n",
    "X = []\n",
    "y = []\n",
    "\n",
    "for author in authors:\n",
    "    texts = os.listdir(DATASET_PATH + author + '/')\n",
    "    for text in texts:\n",
    "        f=open(DATASET_PATH + author + '/' + text, 'r')\n",
    "        X.append(f.read())\n",
    "        y.append(author)\n",
    "        f.close()\n",
    "\n",
    "print(\"# of text:\", len(X))\n",
    "print(\"# of authors:\", len(np.unique(y)))"
   ]
  },
  {
   "cell_type": "markdown",
   "metadata": {},
   "source": [
    "## Preprocess data"
   ]
  },
  {
   "cell_type": "code",
   "execution_count": null,
   "metadata": {},
   "outputs": [],
   "source": [
    "# pip install spacy\n",
    "# python -m spacy download en_core_web_md\n",
    "import spacy\n",
    "from tqdm import tqdm\n",
    "\n",
    "# Load English tokenizer, tagger, parser, NER and word vectors\n",
    "nlp = spacy.load('en_core_web_md')\n",
    "embed_size = 300\n",
    "\n",
    "# convert text to vectors\n",
    "X_vector = []\n",
    "for text in tqdm(X):\n",
    "    text_nlp = nlp(text)\n",
    "    vectors = [word.vector for word in text_nlp]\n",
    "    X_vector.append(vectors)\n",
    "\n",
    "del X\n",
    "del nlp"
   ]
  },
  {
   "cell_type": "code",
   "execution_count": null,
   "metadata": {},
   "outputs": [],
   "source": [
    "# save for quicker reload\n",
    "with open('data/x_vector.npy','wb') as f:\n",
    "    np.save(f, X_vector)"
   ]
  },
  {
   "cell_type": "code",
   "execution_count": 5,
   "metadata": {},
   "outputs": [],
   "source": [
    "# load from file\n",
    "embed_size = 300\n",
    "with open('data/x_vector.npy','rb') as f:\n",
    "    X_vector = np.load(f)"
   ]
  },
  {
   "cell_type": "code",
   "execution_count": 6,
   "metadata": {},
   "outputs": [
    {
     "name": "stdout",
     "output_type": "stream",
     "text": [
      "Shape of X array: (5018,)\n",
      "Shape of y array: (5018,)\n"
     ]
    }
   ],
   "source": [
    "print(\"Shape of X array:\", np.array(X_vector).shape)\n",
    "print(\"Shape of y array:\", np.array(y).shape)"
   ]
  },
  {
   "cell_type": "markdown",
   "metadata": {},
   "source": [
    "## Windowing\n",
    "Creating smaller windows of data to process"
   ]
  },
  {
   "cell_type": "code",
   "execution_count": 7,
   "metadata": {},
   "outputs": [],
   "source": [
    "# Create 100 word chucks\n",
    "WINDOW_SIZE = 200\n",
    "WINDOW_SPACING = 50\n",
    "\n",
    "def chunk(x, y):\n",
    "    X_chunk = []\n",
    "    y_chunk = []\n",
    "    \n",
    "    for i in range(0, len(x)-WINDOW_SIZE, WINDOW_SPACING):\n",
    "        X_chunk.append(x[i:i+WINDOW_SIZE])\n",
    "        y_chunk.append(y)\n",
    "    \n",
    "    return X_chunk, y_chunk\n",
    "\n",
    "X_chunks = []\n",
    "y_chunks = []\n",
    "for i, x in enumerate(X_vector):\n",
    "    xc, yc = chunk(x, y[i])\n",
    "    X_chunks += xc\n",
    "    y_chunks += yc\n",
    "    \n",
    "del X_vector"
   ]
  },
  {
   "cell_type": "code",
   "execution_count": 8,
   "metadata": {},
   "outputs": [
    {
     "name": "stdout",
     "output_type": "stream",
     "text": [
      "X_chunks shape: (43523, 200, 300)\n",
      "y_chunks shape: (43523,)\n"
     ]
    }
   ],
   "source": [
    "X_chunks = np.array(X_chunks)\n",
    "y_chunks = np.array(y_chunks)\n",
    "print(\"X_chunks shape:\", X_chunks.shape)\n",
    "print(\"y_chunks shape:\", y_chunks.shape)"
   ]
  },
  {
   "cell_type": "markdown",
   "metadata": {},
   "source": [
    "## Training"
   ]
  },
  {
   "cell_type": "markdown",
   "metadata": {},
   "source": [
    "### Create training, test, and \"new\" sets"
   ]
  },
  {
   "cell_type": "code",
   "execution_count": 9,
   "metadata": {},
   "outputs": [
    {
     "name": "stdout",
     "output_type": "stream",
     "text": [
      "Start index of 41st author: 34784\n"
     ]
    }
   ],
   "source": [
    "def find_first(array, find):\n",
    "    for i, val in enumerate(array):\n",
    "        if val == find:\n",
    "            return i\n",
    "    return -1\n",
    "\n",
    "_, idx = np.unique(y_chunks, return_index=True)\n",
    "author_num = y_chunks[np.sort(idx)][40]\n",
    "index = find_first(y_chunks, author_num)\n",
    "print(\"Start index of 41st author:\", index)"
   ]
  },
  {
   "cell_type": "code",
   "execution_count": 10,
   "metadata": {},
   "outputs": [
    {
     "name": "stdout",
     "output_type": "stream",
     "text": [
      "Train: 31305 text from 40 authors\n",
      "Test:  3479 text from 40 authors\n",
      "New:   8739 text from 10 authors\n"
     ]
    }
   ],
   "source": [
    "from sklearn.model_selection import train_test_split\n",
    "\n",
    "# Keeps some authors aside for hash testing\n",
    "x_train, x_new, y_train, y_new = train_test_split(X_chunks, y_chunks, train_size=index, shuffle=False)\n",
    "\n",
    "# Split remainder into 70% training and 30% testing and shuffle\n",
    "x_train, x_test, y_train, y_test = train_test_split(x_train, y_train, train_size=0.9, random_state=1)\n",
    "\n",
    "print(\"Train: {} text from {} authors\".format(x_train.shape[0], len(np.unique(y_train, axis=0))))\n",
    "print(\"Test:  {} text from {} authors\".format(x_test.shape[0], len(np.unique(y_test, axis=0))))\n",
    "print(\"New:   {} text from {} authors\".format(x_new.shape[0], len(np.unique(y_new, axis=0))))\n",
    "\n",
    "del X_chunks\n",
    "del y_chunks"
   ]
  },
  {
   "cell_type": "markdown",
   "metadata": {},
   "source": [
    "### One-hot encode labels (authors)"
   ]
  },
  {
   "cell_type": "code",
   "execution_count": 11,
   "metadata": {},
   "outputs": [
    {
     "name": "stdout",
     "output_type": "stream",
     "text": [
      "Author KirstinRidley is one-hot encoded as: \n",
      "[0. 0. 0. 0. 0. 0. 0. 0. 0. 0. 0. 0. 0. 0. 0. 0. 0. 0. 0. 0. 1. 0. 0. 0.\n",
      " 0. 0. 0. 0. 0. 0. 0. 0. 0. 0. 0. 0. 0. 0. 0. 0.]\n"
     ]
    }
   ],
   "source": [
    "from sklearn.preprocessing import LabelEncoder\n",
    "from tensorflow.keras.utils import to_categorical\n",
    "\n",
    "author = y_train[0]\n",
    "\n",
    "encoder = LabelEncoder()\n",
    "encoded = encoder.fit_transform(y_train)\n",
    "y_train = to_categorical(encoded)\n",
    "y_test = to_categorical(encoder.transform(y_test)) \n",
    "\n",
    "print(\"Author {} is one-hot encoded as: \\n{}\".format(author, y_train[0]))\n",
    "\n",
    "del y"
   ]
  },
  {
   "cell_type": "code",
   "execution_count": 12,
   "metadata": {},
   "outputs": [
    {
     "name": "stdout",
     "output_type": "stream",
     "text": [
      "Network output shape (# of trained authors): 40\n"
     ]
    }
   ],
   "source": [
    "output_shape = len(y_train[0])\n",
    "print(\"Network output shape (# of trained authors):\", output_shape)"
   ]
  },
  {
   "cell_type": "markdown",
   "metadata": {},
   "source": [
    "### Train newtork"
   ]
  },
  {
   "cell_type": "code",
   "execution_count": 13,
   "metadata": {},
   "outputs": [],
   "source": [
    "from tensorflow import keras\n",
    "from tensorflow.keras.models import Sequential, Model\n",
    "from tensorflow.keras.layers import Dense, Dropout, LSTM, Bidirectional, RepeatVector, TimeDistributed, Activation, Lambda, Input\n",
    "import tensorflow.keras.backend as K\n",
    "\n",
    "def model1():\n",
    "    model = Sequential()\n",
    "    model.add(LSTM(128, dropout=0.3, recurrent_dropout=0.2, input_shape=(WINDOW_SIZE, embed_size), return_sequences=True))\n",
    "    model.add(LSTM(128, dropout=0.2))\n",
    "    model.add(Dense(20))\n",
    "    model.add(Dense(output_shape, activation='softmax', name='output'))\n",
    "    return model\n",
    "\n",
    "def model2():\n",
    "    model = Sequential()\n",
    "    model.add(LSTM(128, dropout=0.2, recurrent_dropout=0.2, input_shape=(WINDOW_SIZE, embed_size)))\n",
    "    model.add(RepeatVector(WINDOW_SIZE))\n",
    "    model.add(LSTM(128, dropout=0.2))\n",
    "    model.add(Dense(30))\n",
    "    model.add(Dense(output_shape, activation='softmax', name='output'))\n",
    "    return model\n",
    "\n",
    "def model3():\n",
    "    model_inputs = Input(shape=(WINDOW_SIZE, embed_size))\n",
    "    #inputs = Lambda(lambda x: K.expand_dims(x, -1))(model_inputs)\n",
    "    encoded = LSTM(128, return_sequences=False, name='LSTM-encode')(model_inputs)\n",
    "\n",
    "    decoded = RepeatVector(WINDOW_SIZE)(encoded)\n",
    "    decoded = LSTM(1, return_sequences=True, name='LSTM-decode')(decoded)\n",
    "    #decoded = Lambda(lambda x: K.squeeze(x, -1))(decoded)\n",
    "\n",
    "    sequence_autoencoder = Model(model_inputs, decoded)\n",
    "    #sequence_autoencoder.compile(loss='mse', optimizer='adam')\n",
    "\n",
    "    earlyStopping = keras.callbacks.EarlyStopping(monitor='loss', patience=5, verbose=0, mode='auto')\n",
    "\n",
    "    return sequence_autoencoder\n",
    "\n",
    "model = model2()\n",
    "model.compile(#loss='categorical_crossentropy',\n",
    "              loss='mse',\n",
    "              optimizer='adam',\n",
    "              metrics=['accuracy'])\n",
    "\n",
    "#model.summary()"
   ]
  },
  {
   "cell_type": "code",
   "execution_count": 14,
   "metadata": {},
   "outputs": [
    {
     "name": "stdout",
     "output_type": "stream",
     "text": [
      "Train on 25044 samples, validate on 6261 samples\n",
      "Epoch 1/40\n",
      "25044/25044 [==============================] - 57s 2ms/step - loss: 0.0243 - acc: 0.0427 - val_loss: 0.0241 - val_acc: 0.0652\n",
      "Epoch 2/40\n",
      "25044/25044 [==============================] - 54s 2ms/step - loss: 0.0239 - acc: 0.0804 - val_loss: 0.0236 - val_acc: 0.1096\n",
      "Epoch 3/40\n",
      "25044/25044 [==============================] - 54s 2ms/step - loss: 0.0233 - acc: 0.1316 - val_loss: 0.0221 - val_acc: 0.2163\n",
      "Epoch 4/40\n",
      "25044/25044 [==============================] - 54s 2ms/step - loss: 0.0224 - acc: 0.1879 - val_loss: 0.0214 - val_acc: 0.2624\n",
      "Epoch 5/40\n",
      "25044/25044 [==============================] - 54s 2ms/step - loss: 0.0212 - acc: 0.2529 - val_loss: 0.0198 - val_acc: 0.3416\n",
      "Epoch 6/40\n",
      "25044/25044 [==============================] - 54s 2ms/step - loss: 0.0201 - acc: 0.3081 - val_loss: 0.0181 - val_acc: 0.4114\n",
      "Epoch 7/40\n",
      "25044/25044 [==============================] - 54s 2ms/step - loss: 0.0185 - acc: 0.3856 - val_loss: 0.0168 - val_acc: 0.4675\n",
      "Epoch 8/40\n",
      "25044/25044 [==============================] - 54s 2ms/step - loss: 0.0176 - acc: 0.4216 - val_loss: 0.0154 - val_acc: 0.5167\n",
      "Epoch 9/40\n",
      "25044/25044 [==============================] - 54s 2ms/step - loss: 0.0162 - acc: 0.4815 - val_loss: 0.0140 - val_acc: 0.5686\n",
      "Epoch 10/40\n",
      "25044/25044 [==============================] - 54s 2ms/step - loss: 0.0148 - acc: 0.5337 - val_loss: 0.0131 - val_acc: 0.5975\n",
      "Epoch 11/40\n",
      "25044/25044 [==============================] - 54s 2ms/step - loss: 0.0138 - acc: 0.5747 - val_loss: 0.0121 - val_acc: 0.6269\n",
      "Epoch 12/40\n",
      "25044/25044 [==============================] - 54s 2ms/step - loss: 0.0128 - acc: 0.6057 - val_loss: 0.0114 - val_acc: 0.6512\n",
      "Epoch 13/40\n",
      "25044/25044 [==============================] - 54s 2ms/step - loss: 0.0119 - acc: 0.6376 - val_loss: 0.0106 - val_acc: 0.6830\n",
      "Epoch 14/40\n",
      "25044/25044 [==============================] - 54s 2ms/step - loss: 0.0113 - acc: 0.6593 - val_loss: 0.0101 - val_acc: 0.6994\n",
      "Epoch 15/40\n",
      "25044/25044 [==============================] - 54s 2ms/step - loss: 0.0107 - acc: 0.6774 - val_loss: 0.0098 - val_acc: 0.7068\n",
      "Epoch 16/40\n",
      "25044/25044 [==============================] - 54s 2ms/step - loss: 0.0104 - acc: 0.6899 - val_loss: 0.0094 - val_acc: 0.7293\n",
      "Epoch 17/40\n",
      "25044/25044 [==============================] - 54s 2ms/step - loss: 0.0098 - acc: 0.7108 - val_loss: 0.0088 - val_acc: 0.7435\n",
      "Epoch 18/40\n",
      "25044/25044 [==============================] - 54s 2ms/step - loss: 0.0093 - acc: 0.7246 - val_loss: 0.0089 - val_acc: 0.7417\n",
      "Epoch 19/40\n",
      "25044/25044 [==============================] - 54s 2ms/step - loss: 0.0091 - acc: 0.7330 - val_loss: 0.0083 - val_acc: 0.7552\n",
      "Epoch 20/40\n",
      "25044/25044 [==============================] - 54s 2ms/step - loss: 0.0086 - acc: 0.7471 - val_loss: 0.0079 - val_acc: 0.7668\n",
      "Epoch 21/40\n",
      "25044/25044 [==============================] - 54s 2ms/step - loss: 0.0083 - acc: 0.7565 - val_loss: 0.0078 - val_acc: 0.7751\n",
      "Epoch 22/40\n",
      "25044/25044 [==============================] - 54s 2ms/step - loss: 0.0080 - acc: 0.7686 - val_loss: 0.0075 - val_acc: 0.7852\n",
      "Epoch 23/40\n",
      "25044/25044 [==============================] - 54s 2ms/step - loss: 0.0077 - acc: 0.7797 - val_loss: 0.0073 - val_acc: 0.7892\n",
      "Epoch 24/40\n",
      "25044/25044 [==============================] - 54s 2ms/step - loss: 0.0074 - acc: 0.7869 - val_loss: 0.0070 - val_acc: 0.7976\n",
      "Epoch 25/40\n",
      "25044/25044 [==============================] - 54s 2ms/step - loss: 0.0071 - acc: 0.8004 - val_loss: 0.0069 - val_acc: 0.8045\n",
      "Epoch 26/40\n",
      "25044/25044 [==============================] - 54s 2ms/step - loss: 0.0068 - acc: 0.8044 - val_loss: 0.0066 - val_acc: 0.8146\n",
      "Epoch 27/40\n",
      "25044/25044 [==============================] - 54s 2ms/step - loss: 0.0067 - acc: 0.8105 - val_loss: 0.0069 - val_acc: 0.8040\n",
      "Epoch 28/40\n",
      "25044/25044 [==============================] - 54s 2ms/step - loss: 0.0065 - acc: 0.8160 - val_loss: 0.0063 - val_acc: 0.8218\n",
      "Epoch 29/40\n",
      "25044/25044 [==============================] - 54s 2ms/step - loss: 0.0061 - acc: 0.8307 - val_loss: 0.0062 - val_acc: 0.8267\n",
      "Epoch 30/40\n",
      "25044/25044 [==============================] - 54s 2ms/step - loss: 0.0059 - acc: 0.8361 - val_loss: 0.0061 - val_acc: 0.8310\n",
      "Epoch 31/40\n",
      "25044/25044 [==============================] - 54s 2ms/step - loss: 0.0058 - acc: 0.8390 - val_loss: 0.0059 - val_acc: 0.8341\n",
      "Epoch 32/40\n",
      "25044/25044 [==============================] - 54s 2ms/step - loss: 0.0056 - acc: 0.8434 - val_loss: 0.0058 - val_acc: 0.8333\n",
      "Epoch 33/40\n",
      "25044/25044 [==============================] - 54s 2ms/step - loss: 0.0054 - acc: 0.8514 - val_loss: 0.0056 - val_acc: 0.8443\n",
      "Epoch 34/40\n",
      "25044/25044 [==============================] - 54s 2ms/step - loss: 0.0052 - acc: 0.8573 - val_loss: 0.0056 - val_acc: 0.8451\n",
      "Epoch 35/40\n",
      "25044/25044 [==============================] - 54s 2ms/step - loss: 0.0050 - acc: 0.8605 - val_loss: 0.0055 - val_acc: 0.8475\n",
      "Epoch 36/40\n",
      "25044/25044 [==============================] - 54s 2ms/step - loss: 0.0048 - acc: 0.8704 - val_loss: 0.0053 - val_acc: 0.8524\n",
      "Epoch 37/40\n",
      "25044/25044 [==============================] - 54s 2ms/step - loss: 0.0048 - acc: 0.8700 - val_loss: 0.0052 - val_acc: 0.8532\n",
      "Epoch 38/40\n",
      "25044/25044 [==============================] - 54s 2ms/step - loss: 0.0047 - acc: 0.8715 - val_loss: 0.0052 - val_acc: 0.8588\n",
      "Epoch 39/40\n",
      "25044/25044 [==============================] - 54s 2ms/step - loss: 0.0045 - acc: 0.8777 - val_loss: 0.0050 - val_acc: 0.8626\n",
      "Epoch 40/40\n",
      "25044/25044 [==============================] - 54s 2ms/step - loss: 0.0043 - acc: 0.8830 - val_loss: 0.0049 - val_acc: 0.8670\n"
     ]
    },
    {
     "data": {
      "text/plain": [
       "<tensorflow.python.keras.callbacks.History at 0x7f84860e1da0>"
      ]
     },
     "execution_count": 14,
     "metadata": {},
     "output_type": "execute_result"
    }
   ],
   "source": [
    "model.fit(x_train, \n",
    "          y_train,\n",
    "          batch_size=512,\n",
    "          epochs=40,\n",
    "          validation_split=0.2,\n",
    "          shuffle=True)"
   ]
  },
  {
   "cell_type": "code",
   "execution_count": 16,
   "metadata": {},
   "outputs": [
    {
     "name": "stdout",
     "output_type": "stream",
     "text": [
      "3479/3479 [==============================] - 39s 11ms/step\n",
      "Test score: 0.004849352655152234\n",
      "Test accuracy: 0.8643288301921295\n"
     ]
    }
   ],
   "source": [
    "score, acc = model.evaluate(x_test, y_test)\n",
    "print('Test score:', score)\n",
    "print('Test accuracy:', acc)"
   ]
  },
  {
   "cell_type": "code",
   "execution_count": 15,
   "metadata": {},
   "outputs": [],
   "source": [
    "# save model\n",
    "model.save(\"data/5-300-lstm128-128-20-50-model.h5\")"
   ]
  },
  {
   "cell_type": "markdown",
   "metadata": {},
   "source": [
    "### Create and compare hashes"
   ]
  },
  {
   "cell_type": "code",
   "execution_count": 17,
   "metadata": {},
   "outputs": [],
   "source": [
    "# copy model and remove last layer\n",
    "model_copy = model2()\n",
    "model_copy.set_weights(model.get_weights())\n",
    "model_copy.pop()"
   ]
  },
  {
   "cell_type": "code",
   "execution_count": 18,
   "metadata": {},
   "outputs": [
    {
     "name": "stdout",
     "output_type": "stream",
     "text": [
      "_________________________________________________________________\n",
      "Layer (type)                 Output Shape              Param #   \n",
      "=================================================================\n",
      "lstm_2 (LSTM)                (None, 128)               219648    \n",
      "_________________________________________________________________\n",
      "repeat_vector_1 (RepeatVecto (None, 200, 128)          0         \n",
      "_________________________________________________________________\n",
      "lstm_3 (LSTM)                (None, 128)               131584    \n",
      "_________________________________________________________________\n",
      "dense_1 (Dense)              (None, 30)                3870      \n",
      "=================================================================\n",
      "Total params: 355,102\n",
      "Trainable params: 355,102\n",
      "Non-trainable params: 0\n",
      "_________________________________________________________________\n"
     ]
    }
   ],
   "source": [
    "model_copy.summary()"
   ]
  },
  {
   "cell_type": "code",
   "execution_count": 19,
   "metadata": {},
   "outputs": [],
   "source": [
    "from sklearn.metrics.pairwise import cosine_similarity\n",
    "\n",
    "def get_author(index):\n",
    "    return encoder.inverse_transform(y_hash[index])\n",
    "\n",
    "def get_hash(text):\n",
    "    return model_copy.predict(text)\n",
    "\n",
    "def get_similarity(hash1, hash2):\n",
    "    return cosine_similarity(hash1, hash2)"
   ]
  },
  {
   "cell_type": "code",
   "execution_count": 28,
   "metadata": {},
   "outputs": [
    {
     "data": {
      "text/plain": [
       "array([[[-0.55408 ,  0.32141 , -0.082956, ...,  0.17642 , -0.3941  ,\n",
       "          0.23898 ],\n",
       "        [-0.27846 ,  0.58525 , -0.29158 , ..., -0.21882 , -0.16092 ,\n",
       "          0.12867 ],\n",
       "        [-0.18567 ,  0.066008, -0.25209 , ..., -0.023452,  0.12302 ,\n",
       "          0.3312  ],\n",
       "        ...,\n",
       "        [ 0.27204 , -0.06203 , -0.1884  , ...,  0.13015 , -0.18317 ,\n",
       "          0.1323  ],\n",
       "        [-0.8994  ,  0.58613 , -0.19851 , ..., -0.2976  ,  0.58026 ,\n",
       "         -0.038478],\n",
       "        [-0.86201 ,  0.27651 , -0.11209 , ..., -0.029787,  0.30704 ,\n",
       "         -0.019168]],\n",
       "\n",
       "       [[ 0.01751 ,  0.56925 , -0.16269 , ...,  0.56086 , -0.28723 ,\n",
       "          0.95187 ],\n",
       "        [-0.042501,  0.090773, -0.11918 , ..., -0.56068 ,  0.19177 ,\n",
       "         -0.029525],\n",
       "        [-0.15502 ,  0.35825 ,  0.12037 , ..., -0.22542 ,  0.037579,\n",
       "          0.21992 ],\n",
       "        ...,\n",
       "        [ 0.08396 ,  0.049921, -0.20207 , ..., -0.25511 ,  0.11579 ,\n",
       "          0.03228 ],\n",
       "        [ 0.072554,  0.42846 ,  0.16527 , ...,  0.23156 ,  0.41411 ,\n",
       "         -0.10792 ],\n",
       "        [ 0.01332 , -0.051085, -0.13207 , ...,  0.063989, -0.53006 ,\n",
       "          0.19005 ]]], dtype=float32)"
      ]
     },
     "execution_count": 28,
     "metadata": {},
     "output_type": "execute_result"
    }
   ],
   "source": [
    "x_new[0:2]"
   ]
  },
  {
   "cell_type": "code",
   "execution_count": 20,
   "metadata": {},
   "outputs": [],
   "source": [
    "x_hash = get_hash(x_new)"
   ]
  },
  {
   "cell_type": "code",
   "execution_count": 21,
   "metadata": {},
   "outputs": [
    {
     "data": {
      "text/plain": [
       "array([2.855928 , 2.0440075, 1.7792742, 3.2562096, 3.4413583, 3.7530243,\n",
       "       3.7717354, 1.3561691, 3.5164473, 3.6343184, 6.751772 , 6.6856446,\n",
       "       3.5441523, 1.984597 , 3.7207649, 2.463945 , 2.24198  , 5.104289 ,\n",
       "       2.9089975, 2.421086 , 4.496727 , 1.8888315, 1.8361448, 6.008152 ,\n",
       "       3.902635 , 1.5374885, 0.9063362, 2.2372754, 4.726219 , 1.5870391],\n",
       "      dtype=float32)"
      ]
     },
     "execution_count": 21,
     "metadata": {},
     "output_type": "execute_result"
    }
   ],
   "source": [
    "np.var(x_hash, axis=0)"
   ]
  },
  {
   "cell_type": "code",
   "execution_count": 23,
   "metadata": {},
   "outputs": [],
   "source": [
    "#[np.sort(x_hash[i])[::-1][:1][0] for i in range(23,8000,37)]"
   ]
  },
  {
   "cell_type": "code",
   "execution_count": 24,
   "metadata": {},
   "outputs": [
    {
     "name": "stdout",
     "output_type": "stream",
     "text": [
      "Comparision of text 45 and 1 \tfor same author KevinDrawbaugh is: \t\t 0.8114759922\n",
      "Comparision of text 45 and 38 \tfor same author KevinDrawbaugh is: \t\t 0.5325340033\n",
      "Comparision of text 45 and 75 \tfor same author KevinDrawbaugh is: \t\t 0.5046958923\n",
      "Comparision of text 45 and 112 \tfor same author KevinDrawbaugh is: \t\t 0.4234870672\n",
      "Comparision of text 45 and 149 \tfor same author KevinDrawbaugh is: \t\t 0.8637467623\n",
      "Comparision of text 45 and 186 \tfor same author KevinDrawbaugh is: \t\t 0.6951338053\n",
      "Comparision of text 45 and 223 \tfor same author KevinDrawbaugh is: \t\t 0.7119156122\n",
      "Comparision of text 45 and 260 \tfor same author KevinDrawbaugh is: \t\t 0.4131043255\n",
      "Comparision of text 45 and 297 \tfor same author KevinDrawbaugh is: \t\t 0.6975989342\n",
      "Comparision of text 45 and 334 \tfor same author KevinDrawbaugh is: \t\t 0.4887762666\n",
      "Comparision of text 45 and 371 \tfor same author KevinDrawbaugh is: \t\t 0.5291176438\n",
      "Comparision of text 45 and 408 \tfor same author KevinDrawbaugh is: \t\t 0.5005991459\n",
      "Comparision of text 45 and 445 \tfor same author KevinDrawbaugh is: \t\t 0.6284109354\n",
      "Comparision of text 45 and 482 \tfor same author KevinDrawbaugh is: \t\t 0.3223479688\n",
      "Comparision of text 45 and 519 \tfor same author KevinDrawbaugh is: \t\t 0.5113767982\n",
      "Comparision of text 45 and 556 \tfor same author KevinDrawbaugh is: \t\t 0.8202745914\n",
      "Comparision of text 45 and 593 \tfor same author KevinDrawbaugh is: \t\t 0.8275989294\n",
      "Comparision of text 45 and 630 \tfor same author KevinDrawbaugh is: \t\t 0.6629819274\n",
      "Comparision of text 45 and 667 \tfor same author KevinDrawbaugh is: \t\t 0.3789846301\n",
      "Comparision of text 45 and 704 \tfor same author KevinDrawbaugh is: \t\t 0.6572625637\n",
      "Comparision of text 45 and 741 \tfor same author KevinDrawbaugh is: \t\t 0.4313417077\n",
      "Comparision of text 45 and 778 \tfor same author KevinDrawbaugh is: \t\t 0.4093067348\n",
      "Comparision of text 45 and 815 \tfor authors KevinDrawbaugh and PierreTran is: \t 0.5480209589\n",
      "Comparision of text 45 and 852 \tfor authors KevinDrawbaugh and PierreTran is: \t 0.4137729108\n",
      "Comparision of text 45 and 889 \tfor authors KevinDrawbaugh and PierreTran is: \t -0.0082493871\n",
      "Comparision of text 45 and 926 \tfor authors KevinDrawbaugh and PierreTran is: \t 0.6203285456\n",
      "Comparision of text 45 and 963 \tfor authors KevinDrawbaugh and PierreTran is: \t 0.3697561026\n",
      "Comparision of text 45 and 1000 \tfor authors KevinDrawbaugh and PierreTran is: \t 0.6579278111\n",
      "Comparision of text 45 and 1037 \tfor authors KevinDrawbaugh and PierreTran is: \t 0.5542931557\n",
      "Comparision of text 45 and 1074 \tfor authors KevinDrawbaugh and PierreTran is: \t 0.1604393423\n",
      "Comparision of text 45 and 1111 \tfor authors KevinDrawbaugh and PierreTran is: \t 0.2962274253\n",
      "Comparision of text 45 and 1148 \tfor authors KevinDrawbaugh and PierreTran is: \t 0.3399970829\n",
      "Comparision of text 45 and 1185 \tfor authors KevinDrawbaugh and PierreTran is: \t 0.2028668821\n",
      "Comparision of text 45 and 1222 \tfor authors KevinDrawbaugh and PierreTran is: \t 0.3981577456\n",
      "Comparision of text 45 and 1259 \tfor authors KevinDrawbaugh and PierreTran is: \t 0.3337468505\n",
      "Comparision of text 45 and 1296 \tfor authors KevinDrawbaugh and PierreTran is: \t 0.4121772349\n",
      "Comparision of text 45 and 1333 \tfor authors KevinDrawbaugh and PierreTran is: \t 0.2017808259\n",
      "Comparision of text 45 and 1370 \tfor authors KevinDrawbaugh and PierreTran is: \t 0.6135970354\n",
      "Comparision of text 45 and 1407 \tfor authors KevinDrawbaugh and PierreTran is: \t -0.1222137660\n",
      "Comparision of text 45 and 1444 \tfor authors KevinDrawbaugh and PierreTran is: \t 0.6233386397\n",
      "Comparision of text 45 and 1481 \tfor authors KevinDrawbaugh and PierreTran is: \t 0.6529281139\n",
      "Comparision of text 45 and 1518 \tfor authors KevinDrawbaugh and PierreTran is: \t 0.5237175822\n",
      "Comparision of text 45 and 1555 \tfor authors KevinDrawbaugh and PierreTran is: \t 0.1483637393\n",
      "Comparision of text 45 and 1592 \tfor authors KevinDrawbaugh and PierreTran is: \t 0.3551926613\n",
      "Comparision of text 45 and 1629 \tfor authors KevinDrawbaugh and PierreTran is: \t 0.7100324035\n",
      "Comparision of text 45 and 1666 \tfor authors KevinDrawbaugh and PierreTran is: \t 0.6078726053\n",
      "Comparision of text 45 and 1703 \tfor authors KevinDrawbaugh and PierreTran is: \t 0.4327562153\n",
      "Comparision of text 45 and 1740 \tfor authors KevinDrawbaugh and PierreTran is: \t 0.2316425145\n",
      "Comparision of text 45 and 1777 \tfor authors KevinDrawbaugh and SarahDavison is: \t -0.5073642135\n",
      "Comparision of text 45 and 1814 \tfor authors KevinDrawbaugh and SarahDavison is: \t -0.2651776671\n",
      "Comparision of text 45 and 1851 \tfor authors KevinDrawbaugh and SarahDavison is: \t -0.3202172518\n",
      "Comparision of text 45 and 1888 \tfor authors KevinDrawbaugh and SarahDavison is: \t -0.4698150158\n",
      "Comparision of text 45 and 1925 \tfor authors KevinDrawbaugh and SarahDavison is: \t -0.1982260793\n",
      "Comparision of text 45 and 1962 \tfor authors KevinDrawbaugh and SarahDavison is: \t -0.3494568765\n",
      "Comparision of text 45 and 1999 \tfor authors KevinDrawbaugh and SarahDavison is: \t -0.0922571942\n",
      "Comparision of text 45 and 2036 \tfor authors KevinDrawbaugh and SarahDavison is: \t -0.3787207603\n",
      "Comparision of text 45 and 2073 \tfor authors KevinDrawbaugh and SarahDavison is: \t -0.5336391330\n",
      "Comparision of text 45 and 2110 \tfor authors KevinDrawbaugh and SarahDavison is: \t -0.2306849957\n",
      "Comparision of text 45 and 2147 \tfor authors KevinDrawbaugh and SarahDavison is: \t 0.1105947122\n",
      "Comparision of text 45 and 2184 \tfor authors KevinDrawbaugh and SarahDavison is: \t 0.2451985180\n",
      "Comparision of text 45 and 2221 \tfor authors KevinDrawbaugh and SarahDavison is: \t -0.1076485217\n",
      "Comparision of text 45 and 2258 \tfor authors KevinDrawbaugh and SarahDavison is: \t -0.2505560517\n",
      "Comparision of text 45 and 2295 \tfor authors KevinDrawbaugh and SarahDavison is: \t -0.5016152859\n",
      "Comparision of text 45 and 2332 \tfor authors KevinDrawbaugh and SarahDavison is: \t -0.0330207683\n",
      "Comparision of text 45 and 2369 \tfor authors KevinDrawbaugh and SarahDavison is: \t -0.4718785882\n",
      "Comparision of text 45 and 2406 \tfor authors KevinDrawbaugh and SarahDavison is: \t -0.1268149614\n",
      "Comparision of text 45 and 2443 \tfor authors KevinDrawbaugh and SarahDavison is: \t -0.2873335481\n",
      "Comparision of text 45 and 2480 \tfor authors KevinDrawbaugh and SarahDavison is: \t -0.2530199587\n",
      "Comparision of text 45 and 2517 \tfor authors KevinDrawbaugh and SarahDavison is: \t -0.3234446645\n",
      "Comparision of text 45 and 2554 \tfor authors KevinDrawbaugh and SarahDavison is: \t -0.1762041003\n",
      "Comparision of text 45 and 2591 \tfor authors KevinDrawbaugh and SarahDavison is: \t -0.2954320908\n",
      "Comparision of text 45 and 2628 \tfor authors KevinDrawbaugh and SarahDavison is: \t -0.6036142111\n",
      "Comparision of text 45 and 2665 \tfor authors KevinDrawbaugh and SarahDavison is: \t -0.3581328094\n",
      "Comparision of text 45 and 2702 \tfor authors KevinDrawbaugh and SarahDavison is: \t -0.0220821947\n",
      "Comparision of text 45 and 2739 \tfor authors KevinDrawbaugh and SarahDavison is: \t -0.1271944046\n",
      "Comparision of text 45 and 2776 \tfor authors KevinDrawbaugh and SarahDavison is: \t -0.3490584791\n",
      "Comparision of text 45 and 2813 \tfor authors KevinDrawbaugh and FumikoFujisaki is: \t -0.5862747431\n",
      "Comparision of text 45 and 2850 \tfor authors KevinDrawbaugh and FumikoFujisaki is: \t -0.1036231294\n",
      "Comparision of text 45 and 2887 \tfor authors KevinDrawbaugh and FumikoFujisaki is: \t -0.0820647702\n",
      "Comparision of text 45 and 2924 \tfor authors KevinDrawbaugh and FumikoFujisaki is: \t 0.0516224280\n",
      "Comparision of text 45 and 2961 \tfor authors KevinDrawbaugh and FumikoFujisaki is: \t 0.2739002109\n",
      "Comparision of text 45 and 2998 \tfor authors KevinDrawbaugh and FumikoFujisaki is: \t -0.3716138005\n",
      "Comparision of text 45 and 3035 \tfor authors KevinDrawbaugh and FumikoFujisaki is: \t -0.3508980572\n",
      "Comparision of text 45 and 3072 \tfor authors KevinDrawbaugh and FumikoFujisaki is: \t 0.4508440495\n",
      "Comparision of text 45 and 3109 \tfor authors KevinDrawbaugh and FumikoFujisaki is: \t 0.2701836526\n",
      "Comparision of text 45 and 3146 \tfor authors KevinDrawbaugh and FumikoFujisaki is: \t -0.1242223680\n",
      "Comparision of text 45 and 3183 \tfor authors KevinDrawbaugh and FumikoFujisaki is: \t -0.2456650138\n",
      "Comparision of text 45 and 3220 \tfor authors KevinDrawbaugh and FumikoFujisaki is: \t 0.1755978018\n",
      "Comparision of text 45 and 3257 \tfor authors KevinDrawbaugh and FumikoFujisaki is: \t -0.2024045587\n",
      "Comparision of text 45 and 3294 \tfor authors KevinDrawbaugh and FumikoFujisaki is: \t -0.2257295549\n",
      "Comparision of text 45 and 3331 \tfor authors KevinDrawbaugh and FumikoFujisaki is: \t -0.2271231413\n",
      "Comparision of text 45 and 3368 \tfor authors KevinDrawbaugh and FumikoFujisaki is: \t -0.0947685540\n",
      "Comparision of text 45 and 3405 \tfor authors KevinDrawbaugh and FumikoFujisaki is: \t -0.0525176227\n",
      "Comparision of text 45 and 3442 \tfor authors KevinDrawbaugh and FumikoFujisaki is: \t -0.3639535904\n",
      "Comparision of text 45 and 3479 \tfor authors KevinDrawbaugh and FumikoFujisaki is: \t 0.1654480398\n",
      "Comparision of text 45 and 3516 \tfor authors KevinDrawbaugh and FumikoFujisaki is: \t 0.1282071173\n",
      "Comparision of text 45 and 3553 \tfor authors KevinDrawbaugh and FumikoFujisaki is: \t -0.0751594156\n",
      "Comparision of text 45 and 3590 \tfor authors KevinDrawbaugh and FumikoFujisaki is: \t -0.5269224644\n",
      "Comparision of text 45 and 3627 \tfor authors KevinDrawbaugh and FumikoFujisaki is: \t -0.4253878295\n",
      "Comparision of text 45 and 3664 \tfor authors KevinDrawbaugh and FumikoFujisaki is: \t -0.1704636514\n",
      "Comparision of text 45 and 3701 \tfor authors KevinDrawbaugh and FumikoFujisaki is: \t -0.0978330970\n",
      "Comparision of text 45 and 3738 \tfor authors KevinDrawbaugh and FumikoFujisaki is: \t -0.2902448773\n",
      "Comparision of text 45 and 3775 \tfor authors KevinDrawbaugh and SamuelPerry is: \t 0.4285939038\n",
      "Comparision of text 45 and 3812 \tfor authors KevinDrawbaugh and SamuelPerry is: \t 0.1870541871\n",
      "Comparision of text 45 and 3849 \tfor authors KevinDrawbaugh and SamuelPerry is: \t 0.1617316455\n",
      "Comparision of text 45 and 3886 \tfor authors KevinDrawbaugh and SamuelPerry is: \t -0.1186705977\n",
      "Comparision of text 45 and 3923 \tfor authors KevinDrawbaugh and SamuelPerry is: \t 0.0538198315\n",
      "Comparision of text 45 and 3960 \tfor authors KevinDrawbaugh and SamuelPerry is: \t 0.0370470509\n",
      "Comparision of text 45 and 3997 \tfor authors KevinDrawbaugh and SamuelPerry is: \t 0.3216241002\n",
      "Comparision of text 45 and 4034 \tfor authors KevinDrawbaugh and SamuelPerry is: \t 0.0406723954\n",
      "Comparision of text 45 and 4071 \tfor authors KevinDrawbaugh and SamuelPerry is: \t 0.2216751873\n",
      "Comparision of text 45 and 4108 \tfor authors KevinDrawbaugh and SamuelPerry is: \t -0.0598896667\n",
      "Comparision of text 45 and 4145 \tfor authors KevinDrawbaugh and SamuelPerry is: \t 0.1509320587\n",
      "Comparision of text 45 and 4182 \tfor authors KevinDrawbaugh and SamuelPerry is: \t 0.0929863602\n",
      "Comparision of text 45 and 4219 \tfor authors KevinDrawbaugh and SamuelPerry is: \t 0.0955383778\n",
      "Comparision of text 45 and 4256 \tfor authors KevinDrawbaugh and SamuelPerry is: \t 0.0614444427\n",
      "Comparision of text 45 and 4293 \tfor authors KevinDrawbaugh and SamuelPerry is: \t 0.0726911277\n",
      "Comparision of text 45 and 4330 \tfor authors KevinDrawbaugh and SamuelPerry is: \t 0.0498642437\n",
      "Comparision of text 45 and 4367 \tfor authors KevinDrawbaugh and SamuelPerry is: \t 0.1606776714\n",
      "Comparision of text 45 and 4404 \tfor authors KevinDrawbaugh and SamuelPerry is: \t 0.0625961944\n",
      "Comparision of text 45 and 4441 \tfor authors KevinDrawbaugh and SamuelPerry is: \t -0.0180709437\n",
      "Comparision of text 45 and 4478 \tfor authors KevinDrawbaugh and SamuelPerry is: \t 0.2654117346\n",
      "Comparision of text 45 and 4515 \tfor authors KevinDrawbaugh and SamuelPerry is: \t 0.3301265836\n",
      "Comparision of text 45 and 4552 \tfor authors KevinDrawbaugh and SamuelPerry is: \t 0.3152421117\n",
      "Comparision of text 45 and 4589 \tfor authors KevinDrawbaugh and SamuelPerry is: \t -0.0790895671\n",
      "Comparision of text 45 and 4626 \tfor authors KevinDrawbaugh and SamuelPerry is: \t -0.0861480385\n",
      "Comparision of text 45 and 4663 \tfor authors KevinDrawbaugh and SamuelPerry is: \t -0.3157777190\n",
      "Comparision of text 45 and 4700 \tfor authors KevinDrawbaugh and SamuelPerry is: \t -0.0212016366\n",
      "Comparision of text 45 and 4737 \tfor authors KevinDrawbaugh and MureDickie is: \t -0.2941713333\n",
      "Comparision of text 45 and 4774 \tfor authors KevinDrawbaugh and MureDickie is: \t -0.1089780331\n",
      "Comparision of text 45 and 4811 \tfor authors KevinDrawbaugh and MureDickie is: \t -0.5120738745\n",
      "Comparision of text 45 and 4848 \tfor authors KevinDrawbaugh and MureDickie is: \t -0.4914231300\n",
      "Comparision of text 45 and 4885 \tfor authors KevinDrawbaugh and MureDickie is: \t -0.5091007948\n",
      "Comparision of text 45 and 4922 \tfor authors KevinDrawbaugh and MureDickie is: \t -0.5582258701\n",
      "Comparision of text 45 and 4959 \tfor authors KevinDrawbaugh and MureDickie is: \t -0.5431520343\n",
      "Comparision of text 45 and 4996 \tfor authors KevinDrawbaugh and MureDickie is: \t -0.6335157156\n",
      "Comparision of text 45 and 5033 \tfor authors KevinDrawbaugh and MureDickie is: \t -0.4096807241\n",
      "Comparision of text 45 and 5070 \tfor authors KevinDrawbaugh and MureDickie is: \t -0.5271341801\n",
      "Comparision of text 45 and 5107 \tfor authors KevinDrawbaugh and MureDickie is: \t 0.1255962849\n",
      "Comparision of text 45 and 5144 \tfor authors KevinDrawbaugh and MureDickie is: \t -0.5442373753\n",
      "Comparision of text 45 and 5181 \tfor authors KevinDrawbaugh and MureDickie is: \t -0.5475556850\n",
      "Comparision of text 45 and 5218 \tfor authors KevinDrawbaugh and MureDickie is: \t -0.2775247991\n",
      "Comparision of text 45 and 5255 \tfor authors KevinDrawbaugh and MureDickie is: \t -0.4357718825\n",
      "Comparision of text 45 and 5292 \tfor authors KevinDrawbaugh and MureDickie is: \t -0.5294156075\n",
      "Comparision of text 45 and 5329 \tfor authors KevinDrawbaugh and MureDickie is: \t -0.4960515201\n",
      "Comparision of text 45 and 5366 \tfor authors KevinDrawbaugh and MureDickie is: \t -0.4520006478\n",
      "Comparision of text 45 and 5403 \tfor authors KevinDrawbaugh and MureDickie is: \t -0.5942307711\n",
      "Comparision of text 45 and 5440 \tfor authors KevinDrawbaugh and MureDickie is: \t -0.6423979998\n",
      "Comparision of text 45 and 5477 \tfor authors KevinDrawbaugh and MureDickie is: \t -0.4407816827\n",
      "Comparision of text 45 and 5514 \tfor authors KevinDrawbaugh and MureDickie is: \t -0.4376000464\n",
      "Comparision of text 45 and 5551 \tfor authors KevinDrawbaugh and MureDickie is: \t -0.5645551682\n",
      "Comparision of text 45 and 5588 \tfor authors KevinDrawbaugh and SimonCowell is: \t 0.0664177835\n",
      "Comparision of text 45 and 5625 \tfor authors KevinDrawbaugh and SimonCowell is: \t 0.3017500937\n",
      "Comparision of text 45 and 5662 \tfor authors KevinDrawbaugh and SimonCowell is: \t -0.0404703468\n",
      "Comparision of text 45 and 5699 \tfor authors KevinDrawbaugh and SimonCowell is: \t 0.0100286379\n",
      "Comparision of text 45 and 5736 \tfor authors KevinDrawbaugh and SimonCowell is: \t 0.1839973480\n",
      "Comparision of text 45 and 5773 \tfor authors KevinDrawbaugh and SimonCowell is: \t 0.2691469193\n",
      "Comparision of text 45 and 5810 \tfor authors KevinDrawbaugh and SimonCowell is: \t -0.0665311664\n",
      "Comparision of text 45 and 5847 \tfor authors KevinDrawbaugh and SimonCowell is: \t -0.0629128739\n",
      "Comparision of text 45 and 5884 \tfor authors KevinDrawbaugh and SimonCowell is: \t -0.1688974202\n",
      "Comparision of text 45 and 5921 \tfor authors KevinDrawbaugh and SimonCowell is: \t 0.1096213683\n",
      "Comparision of text 45 and 5958 \tfor authors KevinDrawbaugh and SimonCowell is: \t 0.0401453674\n",
      "Comparision of text 45 and 5995 \tfor authors KevinDrawbaugh and SimonCowell is: \t -0.1054486632\n",
      "Comparision of text 45 and 6032 \tfor authors KevinDrawbaugh and SimonCowell is: \t 0.1176273674\n",
      "Comparision of text 45 and 6069 \tfor authors KevinDrawbaugh and SimonCowell is: \t 0.1818744093\n",
      "Comparision of text 45 and 6106 \tfor authors KevinDrawbaugh and SimonCowell is: \t 0.1975276768\n",
      "Comparision of text 45 and 6143 \tfor authors KevinDrawbaugh and SimonCowell is: \t 0.1574932635\n",
      "Comparision of text 45 and 6180 \tfor authors KevinDrawbaugh and SimonCowell is: \t 0.0739117116\n",
      "Comparision of text 45 and 6217 \tfor authors KevinDrawbaugh and SimonCowell is: \t 0.0761811286\n",
      "Comparision of text 45 and 6254 \tfor authors KevinDrawbaugh and SimonCowell is: \t 0.0790007561\n",
      "Comparision of text 45 and 6291 \tfor authors KevinDrawbaugh and SimonCowell is: \t 0.0801124424\n",
      "Comparision of text 45 and 6328 \tfor authors KevinDrawbaugh and SimonCowell is: \t -0.0352633223\n",
      "Comparision of text 45 and 6365 \tfor authors KevinDrawbaugh and SimonCowell is: \t 0.4229873121\n",
      "Comparision of text 45 and 6402 \tfor authors KevinDrawbaugh and EdnaFernandes is: \t 0.2592684627\n",
      "Comparision of text 45 and 6439 \tfor authors KevinDrawbaugh and EdnaFernandes is: \t 0.3190097213\n",
      "Comparision of text 45 and 6476 \tfor authors KevinDrawbaugh and EdnaFernandes is: \t 0.3478495181\n",
      "Comparision of text 45 and 6513 \tfor authors KevinDrawbaugh and EdnaFernandes is: \t 0.0823116899\n",
      "Comparision of text 45 and 6550 \tfor authors KevinDrawbaugh and EdnaFernandes is: \t 0.0607491285\n",
      "Comparision of text 45 and 6587 \tfor authors KevinDrawbaugh and EdnaFernandes is: \t 0.2015602887\n",
      "Comparision of text 45 and 6624 \tfor authors KevinDrawbaugh and EdnaFernandes is: \t 0.2302541733\n",
      "Comparision of text 45 and 6661 \tfor authors KevinDrawbaugh and EdnaFernandes is: \t 0.0712790340\n",
      "Comparision of text 45 and 6698 \tfor authors KevinDrawbaugh and EdnaFernandes is: \t 0.1262785345\n",
      "Comparision of text 45 and 6735 \tfor authors KevinDrawbaugh and EdnaFernandes is: \t 0.3679035604\n",
      "Comparision of text 45 and 6772 \tfor authors KevinDrawbaugh and EdnaFernandes is: \t 0.1051970124\n",
      "Comparision of text 45 and 6809 \tfor authors KevinDrawbaugh and EdnaFernandes is: \t -0.1749291718\n",
      "Comparision of text 45 and 6846 \tfor authors KevinDrawbaugh and EdnaFernandes is: \t 0.0831121802\n",
      "Comparision of text 45 and 6883 \tfor authors KevinDrawbaugh and EdnaFernandes is: \t 0.2128413618\n",
      "Comparision of text 45 and 6920 \tfor authors KevinDrawbaugh and EdnaFernandes is: \t 0.2945659757\n",
      "Comparision of text 45 and 6957 \tfor authors KevinDrawbaugh and EdnaFernandes is: \t -0.0081506893\n",
      "Comparision of text 45 and 6994 \tfor authors KevinDrawbaugh and EdnaFernandes is: \t -0.1803551912\n",
      "Comparision of text 45 and 7031 \tfor authors KevinDrawbaugh and EdnaFernandes is: \t 0.5149278641\n",
      "Comparision of text 45 and 7068 \tfor authors KevinDrawbaugh and EdnaFernandes is: \t 0.2881066501\n",
      "Comparision of text 45 and 7105 \tfor authors KevinDrawbaugh and EdnaFernandes is: \t 0.3712201416\n",
      "Comparision of text 45 and 7142 \tfor authors KevinDrawbaugh and EdnaFernandes is: \t 0.1588685513\n",
      "Comparision of text 45 and 7179 \tfor authors KevinDrawbaugh and ToddNissen is: \t 0.3046000898\n",
      "Comparision of text 45 and 7216 \tfor authors KevinDrawbaugh and ToddNissen is: \t 0.7336103916\n",
      "Comparision of text 45 and 7253 \tfor authors KevinDrawbaugh and ToddNissen is: \t 0.4409183860\n",
      "Comparision of text 45 and 7290 \tfor authors KevinDrawbaugh and ToddNissen is: \t -0.0001251921\n",
      "Comparision of text 45 and 7327 \tfor authors KevinDrawbaugh and ToddNissen is: \t 0.3966496587\n",
      "Comparision of text 45 and 7364 \tfor authors KevinDrawbaugh and ToddNissen is: \t 0.5410252810\n",
      "Comparision of text 45 and 7401 \tfor authors KevinDrawbaugh and ToddNissen is: \t 0.4154649675\n",
      "Comparision of text 45 and 7438 \tfor authors KevinDrawbaugh and ToddNissen is: \t 0.3638614714\n",
      "Comparision of text 45 and 7475 \tfor authors KevinDrawbaugh and ToddNissen is: \t 0.2925288975\n",
      "Comparision of text 45 and 7512 \tfor authors KevinDrawbaugh and ToddNissen is: \t 0.3908920288\n",
      "Comparision of text 45 and 7549 \tfor authors KevinDrawbaugh and ToddNissen is: \t 0.5908876657\n",
      "Comparision of text 45 and 7586 \tfor authors KevinDrawbaugh and ToddNissen is: \t 0.3780688643\n",
      "Comparision of text 45 and 7623 \tfor authors KevinDrawbaugh and ToddNissen is: \t 0.3894608021\n",
      "Comparision of text 45 and 7660 \tfor authors KevinDrawbaugh and ToddNissen is: \t 0.1748790592\n",
      "Comparision of text 45 and 7697 \tfor authors KevinDrawbaugh and ToddNissen is: \t 0.5867432356\n",
      "Comparision of text 45 and 7734 \tfor authors KevinDrawbaugh and ToddNissen is: \t 0.4179628193\n",
      "Comparision of text 45 and 7771 \tfor authors KevinDrawbaugh and ToddNissen is: \t 0.4471726120\n",
      "Comparision of text 45 and 7808 \tfor authors KevinDrawbaugh and ToddNissen is: \t 0.3674322963\n",
      "Comparision of text 45 and 7845 \tfor authors KevinDrawbaugh and ToddNissen is: \t 0.4119194746\n",
      "Comparision of text 45 and 7882 \tfor authors KevinDrawbaugh and ToddNissen is: \t 0.3995100260\n",
      "Comparision of text 45 and 7919 \tfor authors KevinDrawbaugh and ToddNissen is: \t 0.5071423650\n",
      "Comparision of text 45 and 7956 \tfor authors KevinDrawbaugh and ToddNissen is: \t 0.4817959666\n",
      "Comparision of text 45 and 7993 \tfor authors KevinDrawbaugh and ToddNissen is: \t 0.3381897211\n",
      "Comparision of text 45 and 8030 \tfor authors KevinDrawbaugh and JanLopatka is: \t 0.0761515200\n",
      "Comparision of text 45 and 8067 \tfor authors KevinDrawbaugh and JanLopatka is: \t 0.2254058868\n",
      "Comparision of text 45 and 8104 \tfor authors KevinDrawbaugh and JanLopatka is: \t 0.1460951567\n",
      "Comparision of text 45 and 8141 \tfor authors KevinDrawbaugh and JanLopatka is: \t -0.0712193623\n",
      "Comparision of text 45 and 8178 \tfor authors KevinDrawbaugh and JanLopatka is: \t -0.0585671216\n",
      "Comparision of text 45 and 8215 \tfor authors KevinDrawbaugh and JanLopatka is: \t -0.0527377315\n",
      "Comparision of text 45 and 8252 \tfor authors KevinDrawbaugh and JanLopatka is: \t -0.2117591947\n",
      "Comparision of text 45 and 8289 \tfor authors KevinDrawbaugh and JanLopatka is: \t 0.2712146044\n",
      "Comparision of text 45 and 8326 \tfor authors KevinDrawbaugh and JanLopatka is: \t 0.1275769919\n",
      "Comparision of text 45 and 8363 \tfor authors KevinDrawbaugh and JanLopatka is: \t 0.0916777775\n",
      "Comparision of text 45 and 8400 \tfor authors KevinDrawbaugh and JanLopatka is: \t 0.1703352630\n",
      "Comparision of text 45 and 8437 \tfor authors KevinDrawbaugh and JanLopatka is: \t 0.1448741257\n",
      "Comparision of text 45 and 8474 \tfor authors KevinDrawbaugh and JanLopatka is: \t 0.0543923154\n",
      "Comparision of text 45 and 8511 \tfor authors KevinDrawbaugh and JanLopatka is: \t 0.0539583974\n",
      "Comparision of text 45 and 8548 \tfor authors KevinDrawbaugh and JanLopatka is: \t 0.2333510369\n",
      "Comparision of text 45 and 8585 \tfor authors KevinDrawbaugh and JanLopatka is: \t 0.0786309242\n",
      "Comparision of text 45 and 8622 \tfor authors KevinDrawbaugh and JanLopatka is: \t 0.0539050326\n",
      "Comparision of text 45 and 8659 \tfor authors KevinDrawbaugh and JanLopatka is: \t 0.0916729718\n",
      "Comparision of text 45 and 8696 \tfor authors KevinDrawbaugh and JanLopatka is: \t 0.1668263078\n",
      "Comparision of text 45 and 8733 \tfor authors KevinDrawbaugh and JanLopatka is: \t 0.1867571771\n"
     ]
    }
   ],
   "source": [
    "import warnings\n",
    "warnings.filterwarnings('ignore')\n",
    "\n",
    "def print_similarity(i, j):\n",
    "    similarity = get_similarity([x_hash[i]], [x_hash[j]])\n",
    "    similarity = float(similarity)\n",
    "    if y_new[i] == y_new[j]:\n",
    "        print(\"Comparision of text {} and {} \\tfor same author {} is: \\t\\t\".format(\n",
    "             i, j, y_new[i]), end=' ')\n",
    "        print(\"{:0.10f}\".format(similarity))\n",
    "    else:\n",
    "        print(\"Comparision of text {} and {} \\tfor authors {} and {} is: \\t\".format(\n",
    "             i, j, y_new[i], y_new[j]), end=' ')\n",
    "        print(\"{:0.10f}\".format(similarity))\n",
    "\n",
    "for i in range(1, len(x_hash), 37):\n",
    "    print_similarity(45, i)"
   ]
  },
  {
   "cell_type": "code",
   "execution_count": 25,
   "metadata": {},
   "outputs": [
    {
     "name": "stdout",
     "output_type": "stream",
     "text": [
      "True positives  2562837\n",
      "False positives 2745230\n",
      "True negatives  31572218\n",
      "False negatives 1309144\n"
     ]
    }
   ],
   "source": [
    "from tqdm import tqdm\n",
    "\n",
    "true_positive, true_negative, false_positive, false_negative = 0,0,0,0\n",
    "margin = 0.5\n",
    "num_texts = len(x_hash)\n",
    "\n",
    "for i in tqdm(range(num_texts - 1)):\n",
    "    similarity = get_similarity([x_hash[i]], x_hash)\n",
    "    \n",
    "    for j in range(i, num_texts):\n",
    "        if similarity[0][j] >= margin:\n",
    "            if y_new[i] == y_new[j]:\n",
    "                true_positive += 1\n",
    "            else:\n",
    "                false_positive += 1\n",
    "        else:\n",
    "            if y_new[i] == y_new[j]:\n",
    "                false_negative += 1\n",
    "            else:\n",
    "                true_negative += 1\n",
    "\n",
    "print(\"True positives \", true_positive)\n",
    "print(\"False positives\", false_positive)\n",
    "print(\"True negatives \", true_negative)\n",
    "print(\"False negatives\", false_negative)"
   ]
  },
  {
   "cell_type": "code",
   "execution_count": 27,
   "metadata": {},
   "outputs": [
    {
     "name": "stderr",
     "output_type": "stream",
     "text": [
      "100%|██████████| 8738/8738 [00:48<00:00, 178.80it/s]"
     ]
    },
    {
     "name": "stdout",
     "output_type": "stream",
     "text": [
      "Number of correctly identified text belonging to each author:\n"
     ]
    },
    {
     "name": "stderr",
     "output_type": "stream",
     "text": [
      "\n"
     ]
    },
    {
     "data": {
      "text/plain": [
       "{'EdnaFernandes': {'correct': 175283, 'incorrect': 114658},\n",
       " 'FumikoFujisaki': {'correct': 205649, 'incorrect': 256592},\n",
       " 'JanLopatka': {'correct': 184053, 'incorrect': 68351},\n",
       " 'KevinDrawbaugh': {'correct': 176737, 'incorrect': 146069},\n",
       " 'MureDickie': {'correct': 324074, 'incorrect': 43579},\n",
       " 'PierreTran': {'correct': 251964, 'incorrect': 195967},\n",
       " 'SamuelPerry': {'correct': 389246, 'incorrect': 86554},\n",
       " 'SarahDavison': {'correct': 267909, 'incorrect': 271332},\n",
       " 'SimonCowell': {'correct': 277280, 'incorrect': 56056},\n",
       " 'ToddNissen': {'correct': 310642, 'incorrect': 69986}}"
      ]
     },
     "execution_count": 27,
     "metadata": {},
     "output_type": "execute_result"
    }
   ],
   "source": [
    "# Comparison just for the same author\n",
    "new_authors = {name:{\"correct\":0, \"incorrect\":0} for name in np.unique(y_new)}\n",
    "margin = 0.5\n",
    "\n",
    "for i in tqdm(range(num_texts - 1)):\n",
    "    similarity = get_similarity([x_hash[i]], x_hash)\n",
    "    \n",
    "    for j in range(i, num_texts):\n",
    "        if y_new[i] == y_new[j]:\n",
    "            if similarity[0][j] >= margin:\n",
    "                new_authors[y_new[i]][\"correct\"] += 1\n",
    "            else:\n",
    "                new_authors[y_new[i]][\"incorrect\"] += 1\n",
    "\n",
    "print(\"Number of correctly identified text belonging to each author:\")             \n",
    "new_authors"
   ]
  },
  {
   "cell_type": "code",
   "execution_count": null,
   "metadata": {},
   "outputs": [],
   "source": []
  }
 ],
 "metadata": {
  "hide_input": false,
  "kernelspec": {
   "display_name": "Python [conda env:tensorflow_p36]",
   "language": "python",
   "name": "conda-env-tensorflow_p36-py"
  },
  "language_info": {
   "codemirror_mode": {
    "name": "ipython",
    "version": 3
   },
   "file_extension": ".py",
   "mimetype": "text/x-python",
   "name": "python",
   "nbconvert_exporter": "python",
   "pygments_lexer": "ipython3",
   "version": "3.6.6"
  }
 },
 "nbformat": 4,
 "nbformat_minor": 2
}
